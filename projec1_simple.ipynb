{
 "cells": [
  {
   "cell_type": "code",
   "execution_count": 13,
   "metadata": {
    "tags": []
   },
   "outputs": [
    {
     "output_type": "stream",
     "name": "stdout",
     "text": [
      "The autoreload extension is already loaded. To reload it, use:\n  %reload_ext autoreload\n"
     ]
    }
   ],
   "source": [
    "%matplotlib inline\n",
    "import numpy as np\n",
    "import matplotlib.pyplot as plt\n",
    "%load_ext autoreload\n",
    "%autoreload 2\n",
    "from implementations import *"
   ]
  },
  {
   "cell_type": "markdown",
   "metadata": {},
   "source": [
    "# Load the training data into feature matrix, class labels, and event ids:"
   ]
  },
  {
   "cell_type": "code",
   "execution_count": 14,
   "metadata": {},
   "outputs": [
    {
     "output_type": "execute_result",
     "data": {
      "text/plain": [
       "(250000, 30)"
      ]
     },
     "metadata": {},
     "execution_count": 14
    }
   ],
   "source": [
    "import datetime\n",
    "from proj1_helpers import *\n",
    "\n",
    "DATA_TRAIN_PATH = 'data/train.csv' \n",
    "y, X, ids = load_csv_data(DATA_TRAIN_PATH)\n",
    "X.shape"
   ]
  },
  {
   "cell_type": "markdown",
   "metadata": {},
   "source": [
    "# Data preprocessing\n",
    "## Missing Values"
   ]
  },
  {
   "cell_type": "code",
   "execution_count": 15,
   "metadata": {},
   "outputs": [],
   "source": [
    "from missing_values import *\n",
    "\n",
    "interpolator = MeanInterpolator()\n",
    "X = interpolator.interpolate(X)"
   ]
  },
  {
   "source": [
    "## Outliers"
   ],
   "cell_type": "markdown",
   "metadata": {}
  },
  {
   "cell_type": "code",
   "execution_count": 16,
   "metadata": {},
   "outputs": [
    {
     "output_type": "display_data",
     "data": {
      "text/plain": "<Figure size 432x288 with 1 Axes>",
      "image/svg+xml": "<?xml version=\"1.0\" encoding=\"utf-8\" standalone=\"no\"?>\n<!DOCTYPE svg PUBLIC \"-//W3C//DTD SVG 1.1//EN\"\n  \"http://www.w3.org/Graphics/SVG/1.1/DTD/svg11.dtd\">\n<!-- Created with matplotlib (https://matplotlib.org/) -->\n<svg height=\"248.518125pt\" version=\"1.1\" viewBox=\"0 0 394.375 248.518125\" width=\"394.375pt\" xmlns=\"http://www.w3.org/2000/svg\" xmlns:xlink=\"http://www.w3.org/1999/xlink\">\n <metadata>\n  <rdf:RDF xmlns:cc=\"http://creativecommons.org/ns#\" xmlns:dc=\"http://purl.org/dc/elements/1.1/\" xmlns:rdf=\"http://www.w3.org/1999/02/22-rdf-syntax-ns#\">\n   <cc:Work>\n    <dc:type rdf:resource=\"http://purl.org/dc/dcmitype/StillImage\"/>\n    <dc:date>2020-10-13T23:24:23.560140</dc:date>\n    <dc:format>image/svg+xml</dc:format>\n    <dc:creator>\n     <cc:Agent>\n      <dc:title>Matplotlib v3.3.1, https://matplotlib.org/</dc:title>\n     </cc:Agent>\n    </dc:creator>\n   </cc:Work>\n  </rdf:RDF>\n </metadata>\n <defs>\n  <style type=\"text/css\">*{stroke-linecap:butt;stroke-linejoin:round;}</style>\n </defs>\n <g id=\"figure_1\">\n  <g id=\"patch_1\">\n   <path d=\"M 0 248.518125 \nL 394.375 248.518125 \nL 394.375 0 \nL 0 0 \nz\n\" style=\"fill:none;\"/>\n  </g>\n  <g id=\"axes_1\">\n   <g id=\"patch_2\">\n    <path d=\"M 52.375 224.64 \nL 387.175 224.64 \nL 387.175 7.2 \nL 52.375 7.2 \nz\n\" style=\"fill:#ffffff;\"/>\n   </g>\n   <g id=\"patch_3\">\n    <path clip-path=\"url(#p2b34e0eb7c)\" d=\"M 67.593182 224.64 \nL 98.029545 224.64 \nL 98.029545 17.554286 \nL 67.593182 17.554286 \nz\n\" style=\"fill:#1f77b4;\"/>\n   </g>\n   <g id=\"patch_4\">\n    <path clip-path=\"url(#p2b34e0eb7c)\" d=\"M 98.029545 224.64 \nL 128.465909 224.64 \nL 128.465909 200.72656 \nL 98.029545 200.72656 \nz\n\" style=\"fill:#1f77b4;\"/>\n   </g>\n   <g id=\"patch_5\">\n    <path clip-path=\"url(#p2b34e0eb7c)\" d=\"M 128.465909 224.64 \nL 158.902273 224.64 \nL 158.902273 219.351662 \nL 128.465909 219.351662 \nz\n\" style=\"fill:#1f77b4;\"/>\n   </g>\n   <g id=\"patch_6\">\n    <path clip-path=\"url(#p2b34e0eb7c)\" d=\"M 158.902273 224.64 \nL 189.338636 224.64 \nL 189.338636 223.064852 \nL 158.902273 223.064852 \nz\n\" style=\"fill:#1f77b4;\"/>\n   </g>\n   <g id=\"patch_7\">\n    <path clip-path=\"url(#p2b34e0eb7c)\" d=\"M 189.338636 224.64 \nL 219.775 224.64 \nL 219.775 224.201134 \nL 189.338636 224.201134 \nz\n\" style=\"fill:#1f77b4;\"/>\n   </g>\n   <g id=\"patch_8\">\n    <path clip-path=\"url(#p2b34e0eb7c)\" d=\"M 219.775 224.64 \nL 250.211364 224.64 \nL 250.211364 224.486397 \nL 219.775 224.486397 \nz\n\" style=\"fill:#1f77b4;\"/>\n   </g>\n   <g id=\"patch_9\">\n    <path clip-path=\"url(#p2b34e0eb7c)\" d=\"M 250.211364 224.64 \nL 280.647727 224.64 \nL 280.647727 224.598976 \nL 250.211364 224.598976 \nz\n\" style=\"fill:#1f77b4;\"/>\n   </g>\n   <g id=\"patch_10\">\n    <path clip-path=\"url(#p2b34e0eb7c)\" d=\"M 280.647727 224.64 \nL 311.084091 224.64 \nL 311.084091 224.626643 \nL 280.647727 224.626643 \nz\n\" style=\"fill:#1f77b4;\"/>\n   </g>\n   <g id=\"patch_11\">\n    <path clip-path=\"url(#p2b34e0eb7c)\" d=\"M 311.084091 224.64 \nL 341.520455 224.64 \nL 341.520455 224.638092 \nL 311.084091 224.638092 \nz\n\" style=\"fill:#1f77b4;\"/>\n   </g>\n   <g id=\"patch_12\">\n    <path clip-path=\"url(#p2b34e0eb7c)\" d=\"M 341.520455 224.64 \nL 371.956818 224.64 \nL 371.956818 224.637138 \nL 341.520455 224.637138 \nz\n\" style=\"fill:#1f77b4;\"/>\n   </g>\n   <g id=\"matplotlib.axis_1\">\n    <g id=\"xtick_1\">\n     <g id=\"line2d_1\">\n      <defs>\n       <path d=\"M 0 0 \nL 0 3.5 \n\" id=\"mdbd2462482\" style=\"stroke:#000000;stroke-width:0.8;\"/>\n      </defs>\n      <g>\n       <use style=\"stroke:#000000;stroke-width:0.8;\" x=\"54.687583\" xlink:href=\"#mdbd2462482\" y=\"224.64\"/>\n      </g>\n     </g>\n     <g id=\"text_1\">\n      <!-- 0 -->\n      <g transform=\"translate(51.506333 239.238437)scale(0.1 -0.1)\">\n       <defs>\n        <path d=\"M 31.78125 66.40625 \nQ 24.171875 66.40625 20.328125 58.90625 \nQ 16.5 51.421875 16.5 36.375 \nQ 16.5 21.390625 20.328125 13.890625 \nQ 24.171875 6.390625 31.78125 6.390625 \nQ 39.453125 6.390625 43.28125 13.890625 \nQ 47.125 21.390625 47.125 36.375 \nQ 47.125 51.421875 43.28125 58.90625 \nQ 39.453125 66.40625 31.78125 66.40625 \nz\nM 31.78125 74.21875 \nQ 44.046875 74.21875 50.515625 64.515625 \nQ 56.984375 54.828125 56.984375 36.375 \nQ 56.984375 17.96875 50.515625 8.265625 \nQ 44.046875 -1.421875 31.78125 -1.421875 \nQ 19.53125 -1.421875 13.0625 8.265625 \nQ 6.59375 17.96875 6.59375 36.375 \nQ 6.59375 54.828125 13.0625 64.515625 \nQ 19.53125 74.21875 31.78125 74.21875 \nz\n\" id=\"DejaVuSans-48\"/>\n       </defs>\n       <use xlink:href=\"#DejaVuSans-48\"/>\n      </g>\n     </g>\n    </g>\n    <g id=\"xtick_2\">\n     <g id=\"line2d_2\">\n      <g>\n       <use style=\"stroke:#000000;stroke-width:0.8;\" x=\"118.161977\" xlink:href=\"#mdbd2462482\" y=\"224.64\"/>\n      </g>\n     </g>\n     <g id=\"text_2\">\n      <!-- 1000 -->\n      <g transform=\"translate(105.436977 239.238437)scale(0.1 -0.1)\">\n       <defs>\n        <path d=\"M 12.40625 8.296875 \nL 28.515625 8.296875 \nL 28.515625 63.921875 \nL 10.984375 60.40625 \nL 10.984375 69.390625 \nL 28.421875 72.90625 \nL 38.28125 72.90625 \nL 38.28125 8.296875 \nL 54.390625 8.296875 \nL 54.390625 0 \nL 12.40625 0 \nz\n\" id=\"DejaVuSans-49\"/>\n       </defs>\n       <use xlink:href=\"#DejaVuSans-49\"/>\n       <use x=\"63.623047\" xlink:href=\"#DejaVuSans-48\"/>\n       <use x=\"127.246094\" xlink:href=\"#DejaVuSans-48\"/>\n       <use x=\"190.869141\" xlink:href=\"#DejaVuSans-48\"/>\n      </g>\n     </g>\n    </g>\n    <g id=\"xtick_3\">\n     <g id=\"line2d_3\">\n      <g>\n       <use style=\"stroke:#000000;stroke-width:0.8;\" x=\"181.636371\" xlink:href=\"#mdbd2462482\" y=\"224.64\"/>\n      </g>\n     </g>\n     <g id=\"text_3\">\n      <!-- 2000 -->\n      <g transform=\"translate(168.911371 239.238437)scale(0.1 -0.1)\">\n       <defs>\n        <path d=\"M 19.1875 8.296875 \nL 53.609375 8.296875 \nL 53.609375 0 \nL 7.328125 0 \nL 7.328125 8.296875 \nQ 12.9375 14.109375 22.625 23.890625 \nQ 32.328125 33.6875 34.8125 36.53125 \nQ 39.546875 41.84375 41.421875 45.53125 \nQ 43.3125 49.21875 43.3125 52.78125 \nQ 43.3125 58.59375 39.234375 62.25 \nQ 35.15625 65.921875 28.609375 65.921875 \nQ 23.96875 65.921875 18.8125 64.3125 \nQ 13.671875 62.703125 7.8125 59.421875 \nL 7.8125 69.390625 \nQ 13.765625 71.78125 18.9375 73 \nQ 24.125 74.21875 28.421875 74.21875 \nQ 39.75 74.21875 46.484375 68.546875 \nQ 53.21875 62.890625 53.21875 53.421875 \nQ 53.21875 48.921875 51.53125 44.890625 \nQ 49.859375 40.875 45.40625 35.40625 \nQ 44.1875 33.984375 37.640625 27.21875 \nQ 31.109375 20.453125 19.1875 8.296875 \nz\n\" id=\"DejaVuSans-50\"/>\n       </defs>\n       <use xlink:href=\"#DejaVuSans-50\"/>\n       <use x=\"63.623047\" xlink:href=\"#DejaVuSans-48\"/>\n       <use x=\"127.246094\" xlink:href=\"#DejaVuSans-48\"/>\n       <use x=\"190.869141\" xlink:href=\"#DejaVuSans-48\"/>\n      </g>\n     </g>\n    </g>\n    <g id=\"xtick_4\">\n     <g id=\"line2d_4\">\n      <g>\n       <use style=\"stroke:#000000;stroke-width:0.8;\" x=\"245.110765\" xlink:href=\"#mdbd2462482\" y=\"224.64\"/>\n      </g>\n     </g>\n     <g id=\"text_4\">\n      <!-- 3000 -->\n      <g transform=\"translate(232.385765 239.238437)scale(0.1 -0.1)\">\n       <defs>\n        <path d=\"M 40.578125 39.3125 \nQ 47.65625 37.796875 51.625 33 \nQ 55.609375 28.21875 55.609375 21.1875 \nQ 55.609375 10.40625 48.1875 4.484375 \nQ 40.765625 -1.421875 27.09375 -1.421875 \nQ 22.515625 -1.421875 17.65625 -0.515625 \nQ 12.796875 0.390625 7.625 2.203125 \nL 7.625 11.71875 \nQ 11.71875 9.328125 16.59375 8.109375 \nQ 21.484375 6.890625 26.8125 6.890625 \nQ 36.078125 6.890625 40.9375 10.546875 \nQ 45.796875 14.203125 45.796875 21.1875 \nQ 45.796875 27.640625 41.28125 31.265625 \nQ 36.765625 34.90625 28.71875 34.90625 \nL 20.21875 34.90625 \nL 20.21875 43.015625 \nL 29.109375 43.015625 \nQ 36.375 43.015625 40.234375 45.921875 \nQ 44.09375 48.828125 44.09375 54.296875 \nQ 44.09375 59.90625 40.109375 62.90625 \nQ 36.140625 65.921875 28.71875 65.921875 \nQ 24.65625 65.921875 20.015625 65.03125 \nQ 15.375 64.15625 9.8125 62.3125 \nL 9.8125 71.09375 \nQ 15.4375 72.65625 20.34375 73.4375 \nQ 25.25 74.21875 29.59375 74.21875 \nQ 40.828125 74.21875 47.359375 69.109375 \nQ 53.90625 64.015625 53.90625 55.328125 \nQ 53.90625 49.265625 50.4375 45.09375 \nQ 46.96875 40.921875 40.578125 39.3125 \nz\n\" id=\"DejaVuSans-51\"/>\n       </defs>\n       <use xlink:href=\"#DejaVuSans-51\"/>\n       <use x=\"63.623047\" xlink:href=\"#DejaVuSans-48\"/>\n       <use x=\"127.246094\" xlink:href=\"#DejaVuSans-48\"/>\n       <use x=\"190.869141\" xlink:href=\"#DejaVuSans-48\"/>\n      </g>\n     </g>\n    </g>\n    <g id=\"xtick_5\">\n     <g id=\"line2d_5\">\n      <g>\n       <use style=\"stroke:#000000;stroke-width:0.8;\" x=\"308.585159\" xlink:href=\"#mdbd2462482\" y=\"224.64\"/>\n      </g>\n     </g>\n     <g id=\"text_5\">\n      <!-- 4000 -->\n      <g transform=\"translate(295.860159 239.238437)scale(0.1 -0.1)\">\n       <defs>\n        <path d=\"M 37.796875 64.3125 \nL 12.890625 25.390625 \nL 37.796875 25.390625 \nz\nM 35.203125 72.90625 \nL 47.609375 72.90625 \nL 47.609375 25.390625 \nL 58.015625 25.390625 \nL 58.015625 17.1875 \nL 47.609375 17.1875 \nL 47.609375 0 \nL 37.796875 0 \nL 37.796875 17.1875 \nL 4.890625 17.1875 \nL 4.890625 26.703125 \nz\n\" id=\"DejaVuSans-52\"/>\n       </defs>\n       <use xlink:href=\"#DejaVuSans-52\"/>\n       <use x=\"63.623047\" xlink:href=\"#DejaVuSans-48\"/>\n       <use x=\"127.246094\" xlink:href=\"#DejaVuSans-48\"/>\n       <use x=\"190.869141\" xlink:href=\"#DejaVuSans-48\"/>\n      </g>\n     </g>\n    </g>\n    <g id=\"xtick_6\">\n     <g id=\"line2d_6\">\n      <g>\n       <use style=\"stroke:#000000;stroke-width:0.8;\" x=\"372.059553\" xlink:href=\"#mdbd2462482\" y=\"224.64\"/>\n      </g>\n     </g>\n     <g id=\"text_6\">\n      <!-- 5000 -->\n      <g transform=\"translate(359.334553 239.238437)scale(0.1 -0.1)\">\n       <defs>\n        <path d=\"M 10.796875 72.90625 \nL 49.515625 72.90625 \nL 49.515625 64.59375 \nL 19.828125 64.59375 \nL 19.828125 46.734375 \nQ 21.96875 47.46875 24.109375 47.828125 \nQ 26.265625 48.1875 28.421875 48.1875 \nQ 40.625 48.1875 47.75 41.5 \nQ 54.890625 34.8125 54.890625 23.390625 \nQ 54.890625 11.625 47.5625 5.09375 \nQ 40.234375 -1.421875 26.90625 -1.421875 \nQ 22.3125 -1.421875 17.546875 -0.640625 \nQ 12.796875 0.140625 7.71875 1.703125 \nL 7.71875 11.625 \nQ 12.109375 9.234375 16.796875 8.0625 \nQ 21.484375 6.890625 26.703125 6.890625 \nQ 35.15625 6.890625 40.078125 11.328125 \nQ 45.015625 15.765625 45.015625 23.390625 \nQ 45.015625 31 40.078125 35.4375 \nQ 35.15625 39.890625 26.703125 39.890625 \nQ 22.75 39.890625 18.8125 39.015625 \nQ 14.890625 38.140625 10.796875 36.28125 \nz\n\" id=\"DejaVuSans-53\"/>\n       </defs>\n       <use xlink:href=\"#DejaVuSans-53\"/>\n       <use x=\"63.623047\" xlink:href=\"#DejaVuSans-48\"/>\n       <use x=\"127.246094\" xlink:href=\"#DejaVuSans-48\"/>\n       <use x=\"190.869141\" xlink:href=\"#DejaVuSans-48\"/>\n      </g>\n     </g>\n    </g>\n   </g>\n   <g id=\"matplotlib.axis_2\">\n    <g id=\"ytick_1\">\n     <g id=\"line2d_7\">\n      <defs>\n       <path d=\"M 0 0 \nL -3.5 0 \n\" id=\"m7a159012db\" style=\"stroke:#000000;stroke-width:0.8;\"/>\n      </defs>\n      <g>\n       <use style=\"stroke:#000000;stroke-width:0.8;\" x=\"52.375\" xlink:href=\"#m7a159012db\" y=\"224.64\"/>\n      </g>\n     </g>\n     <g id=\"text_7\">\n      <!-- 0 -->\n      <g transform=\"translate(39.0125 228.439219)scale(0.1 -0.1)\">\n       <use xlink:href=\"#DejaVuSans-48\"/>\n      </g>\n     </g>\n    </g>\n    <g id=\"ytick_2\">\n     <g id=\"line2d_8\">\n      <g>\n       <use style=\"stroke:#000000;stroke-width:0.8;\" x=\"52.375\" xlink:href=\"#m7a159012db\" y=\"176.937148\"/>\n      </g>\n     </g>\n     <g id=\"text_8\">\n      <!-- 50000 -->\n      <g transform=\"translate(13.5625 180.736366)scale(0.1 -0.1)\">\n       <use xlink:href=\"#DejaVuSans-53\"/>\n       <use x=\"63.623047\" xlink:href=\"#DejaVuSans-48\"/>\n       <use x=\"127.246094\" xlink:href=\"#DejaVuSans-48\"/>\n       <use x=\"190.869141\" xlink:href=\"#DejaVuSans-48\"/>\n       <use x=\"254.492188\" xlink:href=\"#DejaVuSans-48\"/>\n      </g>\n     </g>\n    </g>\n    <g id=\"ytick_3\">\n     <g id=\"line2d_9\">\n      <g>\n       <use style=\"stroke:#000000;stroke-width:0.8;\" x=\"52.375\" xlink:href=\"#m7a159012db\" y=\"129.234295\"/>\n      </g>\n     </g>\n     <g id=\"text_9\">\n      <!-- 100000 -->\n      <g transform=\"translate(7.2 133.033514)scale(0.1 -0.1)\">\n       <use xlink:href=\"#DejaVuSans-49\"/>\n       <use x=\"63.623047\" xlink:href=\"#DejaVuSans-48\"/>\n       <use x=\"127.246094\" xlink:href=\"#DejaVuSans-48\"/>\n       <use x=\"190.869141\" xlink:href=\"#DejaVuSans-48\"/>\n       <use x=\"254.492188\" xlink:href=\"#DejaVuSans-48\"/>\n       <use x=\"318.115234\" xlink:href=\"#DejaVuSans-48\"/>\n      </g>\n     </g>\n    </g>\n    <g id=\"ytick_4\">\n     <g id=\"line2d_10\">\n      <g>\n       <use style=\"stroke:#000000;stroke-width:0.8;\" x=\"52.375\" xlink:href=\"#m7a159012db\" y=\"81.531443\"/>\n      </g>\n     </g>\n     <g id=\"text_10\">\n      <!-- 150000 -->\n      <g transform=\"translate(7.2 85.330662)scale(0.1 -0.1)\">\n       <use xlink:href=\"#DejaVuSans-49\"/>\n       <use x=\"63.623047\" xlink:href=\"#DejaVuSans-53\"/>\n       <use x=\"127.246094\" xlink:href=\"#DejaVuSans-48\"/>\n       <use x=\"190.869141\" xlink:href=\"#DejaVuSans-48\"/>\n       <use x=\"254.492188\" xlink:href=\"#DejaVuSans-48\"/>\n       <use x=\"318.115234\" xlink:href=\"#DejaVuSans-48\"/>\n      </g>\n     </g>\n    </g>\n    <g id=\"ytick_5\">\n     <g id=\"line2d_11\">\n      <g>\n       <use style=\"stroke:#000000;stroke-width:0.8;\" x=\"52.375\" xlink:href=\"#m7a159012db\" y=\"33.828591\"/>\n      </g>\n     </g>\n     <g id=\"text_11\">\n      <!-- 200000 -->\n      <g transform=\"translate(7.2 37.62781)scale(0.1 -0.1)\">\n       <use xlink:href=\"#DejaVuSans-50\"/>\n       <use x=\"63.623047\" xlink:href=\"#DejaVuSans-48\"/>\n       <use x=\"127.246094\" xlink:href=\"#DejaVuSans-48\"/>\n       <use x=\"190.869141\" xlink:href=\"#DejaVuSans-48\"/>\n       <use x=\"254.492188\" xlink:href=\"#DejaVuSans-48\"/>\n       <use x=\"318.115234\" xlink:href=\"#DejaVuSans-48\"/>\n      </g>\n     </g>\n    </g>\n   </g>\n   <g id=\"patch_13\">\n    <path d=\"M 52.375 224.64 \nL 52.375 7.2 \n\" style=\"fill:none;stroke:#000000;stroke-linecap:square;stroke-linejoin:miter;stroke-width:0.8;\"/>\n   </g>\n   <g id=\"patch_14\">\n    <path d=\"M 387.175 224.64 \nL 387.175 7.2 \n\" style=\"fill:none;stroke:#000000;stroke-linecap:square;stroke-linejoin:miter;stroke-width:0.8;\"/>\n   </g>\n   <g id=\"patch_15\">\n    <path d=\"M 52.375 224.64 \nL 387.175 224.64 \n\" style=\"fill:none;stroke:#000000;stroke-linecap:square;stroke-linejoin:miter;stroke-width:0.8;\"/>\n   </g>\n   <g id=\"patch_16\">\n    <path d=\"M 52.375 7.2 \nL 387.175 7.2 \n\" style=\"fill:none;stroke:#000000;stroke-linecap:square;stroke-linejoin:miter;stroke-width:0.8;\"/>\n   </g>\n  </g>\n </g>\n <defs>\n  <clipPath id=\"p2b34e0eb7c\">\n   <rect height=\"217.44\" width=\"334.8\" x=\"52.375\" y=\"7.2\"/>\n  </clipPath>\n </defs>\n</svg>\n",
      "image/png": "[encoded data removed]"
     },
     "metadata": {
      "needs_background": "light"
     }
    },
    {
     "output_type": "stream",
     "name": "stdout",
     "text": [
      "(250000,)\nNumber of outliers removed :  3293\n"
     ]
    }
   ],
   "source": [
    "outlier_mask=np.linalg.norm(X,axis=1)<1500\n",
    "plt.hist(np.linalg.norm(X,axis=1))\n",
    "plt.show()\n",
    "print(outlier_mask.shape)\n",
    "# outliers removal\n",
    "X = X[outlier_mask]\n",
    "y = y[outlier_mask]\n",
    "print('Number of outliers removed : ', np.sum(~outlier_mask))"
   ]
  },
  {
   "source": [
    "## Logistic Regression"
   ],
   "cell_type": "markdown",
   "metadata": {}
  },
  {
   "cell_type": "code",
   "execution_count": 60,
   "metadata": {},
   "outputs": [
    {
     "output_type": "execute_result",
     "data": {
      "text/plain": [
       "(array([-0.01710043, -0.01710043, -0.01710043, -0.01710043, -0.01710043,\n",
       "        -0.01710043, -0.01710043, -0.01710043, -0.01710043, -0.01710043,\n",
       "        -0.01710043, -0.01710043, -0.01710043, -0.01710043, -0.01710043,\n",
       "        -0.01710043, -0.01710043, -0.01710043, -0.01710043, -0.01710043,\n",
       "        -0.01710043, -0.01710043, -0.01710043, -0.01710043, -0.01710043,\n",
       "        -0.01710043, -0.01710043, -0.01710043, -0.01710043, -0.01710043]),\n",
       " -1627845.296576539)"
      ]
     },
     "metadata": {},
     "execution_count": 60
    }
   ],
   "source": [
    "reg_logistic_regression(y,X,lambda_=1000,initial_w=np.zeros((X.shape[1])),max_iters=1,gamma=1e-7)"
   ]
  },
  {
   "cell_type": "code",
   "execution_count": 70,
   "metadata": {},
   "outputs": [
    {
     "output_type": "stream",
     "name": "stdout",
     "text": [
      "Evaluated for {'degree': 1, 'gamma': 1e-10, 'lambda': 0.0001} : loss = 1.008366841452305\n",
      "Evaluated for {'degree': 1, 'gamma': 1e-08, 'lambda': 0.0001} : loss = 48.73600217841553\n",
      "Evaluated for {'degree': 2, 'gamma': 1e-10, 'lambda': 0.0001} : loss = 1.0093814069424536\n",
      "Evaluated for {'degree': 2, 'gamma': 1e-08, 'lambda': 0.0001} : loss = 65.96537388245808\n",
      "(2, 2, 1)\n",
      "======== Best test loss for parameters {'degree': 1, 'gamma': 1e-10, 'lambda': 0.0001} ========\n",
      "======== Best test loss score 1.008366841452305 ========\n",
      "{'degree': 1, 'gamma': 1e-10, 'lambda': 0.0001}\n"
     ]
    }
   ],
   "source": [
    "from cross_validation import hyper_parameter_optimisation\n",
    "degrees = np.arange(1,3)\n",
    "lambdas = np.logspace(-4, 3, 1)\n",
    "gammas = np.logspace(-10, -8, 2)\n",
    "params={'degree':degrees,'gamma':gammas,'lambda':lambdas,}\n",
    "#call to the grid search function\n",
    "best_param = hyper_parameter_optimisation(params,X,y)\n",
    "#least_squares_SGD(y, X,np.zeros((X.shape[1])), 100, 1e-6)"
   ]
  },
  {
   "cell_type": "markdown",
   "metadata": {},
   "source": [
    "# Cross Validation\n"
   ]
  },
  {
   "cell_type": "code",
   "execution_count": 25,
   "metadata": {
    "tags": []
   },
   "outputs": [
    {
     "output_type": "stream",
     "name": "stdout",
     "text": [
      "Evaluated for {'degree': 5, 'lambda': 0.0001} : loss = 0.7726693494782806\n",
      "Evaluated for {'degree': 5, 'lambda': 0.00012742749857031334} : loss = 0.7726693274082003\n",
      "Evaluated for {'degree': 5, 'lambda': 0.0001623776739188721} : loss = 0.7726692980044576\n",
      "Evaluated for {'degree': 5, 'lambda': 0.00020691380811147902} : loss = 0.772669259493117\n",
      "Evaluated for {'degree': 5, 'lambda': 0.00026366508987303583} : loss = 0.7726692095868173\n",
      "Evaluated for {'degree': 5, 'lambda': 0.0003359818286283781} : loss = 0.7726691453472049\n",
      "Evaluated for {'degree': 5, 'lambda': 0.00042813323987193956} : loss = 0.7726690630139066\n",
      "Evaluated for {'degree': 5, 'lambda': 0.000545559478116852} : loss = 0.7726689577899933\n",
      "Evaluated for {'degree': 5, 'lambda': 0.0006951927961775605} : loss = 0.772668823574352\n",
      "Evaluated for {'degree': 5, 'lambda': 0.0008858667904100823} : loss = 0.772668652627313\n",
      "Evaluated for {'degree': 5, 'lambda': 0.0011288378916846883} : loss = 0.7726684351570111\n",
      "Evaluated for {'degree': 5, 'lambda': 0.0014384498882876629} : loss = 0.7726681588109289\n",
      "Evaluated for {'degree': 5, 'lambda': 0.0018329807108324356} : loss = 0.7726678080592538\n",
      "Evaluated for {'degree': 5, 'lambda': 0.002335721469090121} : loss = 0.7726673634572092\n",
      "Evaluated for {'degree': 5, 'lambda': 0.002976351441631319} : loss = 0.7726668007822524\n",
      "Evaluated for {'degree': 5, 'lambda': 0.00379269019073225} : loss = 0.7726660900535611\n",
      "Evaluated for {'degree': 5, 'lambda': 0.004832930238571752} : loss = 0.7726651944662797\n",
      "Evaluated for {'degree': 5, 'lambda': 0.00615848211066026} : loss = 0.7726640693088026\n",
      "Evaluated for {'degree': 5, 'lambda': 0.007847599703514606} : loss = 0.7726626609905187\n",
      "Evaluated for {'degree': 5, 'lambda': 0.01} : loss = 0.7726609063830541\n",
      "Evaluated for {'degree': 6, 'lambda': 0.0001} : loss = 0.7711116550478582\n",
      "Evaluated for {'degree': 6, 'lambda': 0.00012742749857031334} : loss = 0.7711088998247062\n",
      "Evaluated for {'degree': 6, 'lambda': 0.0001623776739188721} : loss = 0.7711054026127313\n",
      "Evaluated for {'degree': 6, 'lambda': 0.00020691380811147902} : loss = 0.7711009623374515\n",
      "Evaluated for {'degree': 6, 'lambda': 0.00026366508987303583} : loss = 0.7710953254405646\n",
      "Evaluated for {'degree': 6, 'lambda': 0.0003359818286283781} : loss = 0.7710881728017008\n",
      "Evaluated for {'degree': 6, 'lambda': 0.00042813323987193956} : loss = 0.7710791037916336\n",
      "Evaluated for {'degree': 6, 'lambda': 0.000545559478116852} : loss = 0.7710676171405274\n",
      "Evaluated for {'degree': 6, 'lambda': 0.0006951927961775605} : loss = 0.7710530882027211\n",
      "Evaluated for {'degree': 6, 'lambda': 0.0008858667904100823} : loss = 0.7710347424488944\n",
      "Evaluated for {'degree': 6, 'lambda': 0.0011288378916846883} : loss = 0.7710116251159207\n",
      "Evaluated for {'degree': 6, 'lambda': 0.0014384498882876629} : loss = 0.770982567401073\n",
      "Evaluated for {'degree': 6, 'lambda': 0.0018329807108324356} : loss = 0.7709461500308237\n",
      "Evaluated for {'degree': 6, 'lambda': 0.002335721469090121} : loss = 0.7709006659455426\n",
      "Evaluated for {'degree': 6, 'lambda': 0.002976351441631319} : loss = 0.7708440851318261\n",
      "Evaluated for {'degree': 6, 'lambda': 0.00379269019073225} : loss = 0.7707740270740859\n",
      "Evaluated for {'degree': 6, 'lambda': 0.004832930238571752} : loss = 0.7706877500330453\n",
      "Evaluated for {'degree': 6, 'lambda': 0.00615848211066026} : loss = 0.7705821726713076\n",
      "Evaluated for {'degree': 6, 'lambda': 0.007847599703514606} : loss = 0.7704539527830863\n",
      "Evaluated for {'degree': 6, 'lambda': 0.01} : loss = 0.7702996595076796\n",
      "======== Best test loss for parameters {'degree': 6, 'lambda': 0.01} ========\n",
      "======== Best test loss score 0.7702996595076796 ========\n"
     ]
    }
   ],
   "source": [
    "from cross_validation import grid_search_cv\n",
    "\n",
    "degrees = np.arange(5,7)\n",
    "lambdas = np.logspace(-4, -2, 20)\n",
    "params={'degree':degrees,'lambda':lambdas}\n",
    "#call to the grid search function\n",
    "best_param = grid_search_cv(params,X,y,k_fold=4)"
   ]
  },
  {
   "source": [
    "## Train final model with the best parameters"
   ],
   "cell_type": "markdown",
   "metadata": {}
  },
  {
   "cell_type": "code",
   "execution_count": 26,
   "metadata": {},
   "outputs": [],
   "source": [
    "from build_polynomial import PolynomialExpansion\n",
    "\n",
    "degree  = best_param['degree']\n",
    "lambda_ = best_param['lambda']\n",
    "\n",
    "expanser = PolynomialExpansion(degree,with_scaler=True)\n",
    "tX       = expanser.expand(X)\n",
    "weights,loss_tr = ridge_regression(y,tX,lambda_)"
   ]
  },
  {
   "cell_type": "markdown",
   "metadata": {},
   "source": [
    "# Model evaluation"
   ]
  },
  {
   "cell_type": "code",
   "execution_count": 27,
   "metadata": {},
   "outputs": [],
   "source": [
    "def evaluate_model(x,y,w, print_=False):\n",
    "    pred=predict_labels(w, x)\n",
    "    false_positive=np.sum(pred>y)\n",
    "    false_negative=np.sum(pred<y)\n",
    "    true_positive=np.sum((pred==y) * (y==np.ones(len(y))*1))\n",
    "    true_negative=np.sum((pred==y) * (y==np.ones(len(y))*-1))\n",
    "    confusion_matrix=[[true_positive,false_positive],[false_negative,true_negative]]\n",
    "    if print_:\n",
    "        print(\"==============================\")\n",
    "        print('precision=',true_positive/(true_positive+false_positive))\n",
    "        print('accuracy=',(true_positive+true_negative)/len(pred))\n",
    "        print('recall=',true_positive/(true_positive+false_negative))\n",
    "        print('f1=',true_positive/(true_positive+0.5*(false_negative+false_positive)))\n",
    "        print(\"confusion matrix:\")\n",
    "        print(confusion_matrix[0])\n",
    "        print(confusion_matrix[1])\n",
    "        print(\"==============================\")   \n",
    "    \n",
    "    return (true_positive+true_negative)/len(pred)"
   ]
  },
  {
   "cell_type": "code",
   "execution_count": 37,
   "metadata": {
    "tags": []
   },
   "outputs": [
    {
     "output_type": "stream",
     "name": "stdout",
     "text": [
      "==============================\nprecision= 0.7313864372077581\naccuracy= 0.7987126429327096\nrecall= 0.6361251819855375\nf1= 0.6804378462904689\nconfusion matrix:\n[52869, 19417]\n[30242, 144179]\n==============================\n"
     ]
    },
    {
     "output_type": "execute_result",
     "data": {
      "text/plain": [
       "0.7987126429327096"
      ]
     },
     "metadata": {},
     "execution_count": 37
    }
   ],
   "source": [
    "evaluate_model(tX,y,weights, print_=True)"
   ]
  },
  {
   "cell_type": "markdown",
   "metadata": {},
   "source": [
    "# Generate predictions and save ouput in csv format for submission:"
   ]
  },
  {
   "cell_type": "code",
   "execution_count": 20,
   "metadata": {},
   "outputs": [
    {
     "output_type": "execute_result",
     "data": {
      "text/plain": [
       "(568238, 30)"
      ]
     },
     "metadata": {},
     "execution_count": 20
    }
   ],
   "source": [
    "DATA_TEST_PATH = 'data/test.csv' # TODO: download train data and supply path here \n",
    "y_sub, X_sub, ids_sub = load_csv_data(DATA_TEST_PATH)\n",
    "X_sub.shape"
   ]
  },
  {
   "source": [
    "## Apply same transformation pipeline"
   ],
   "cell_type": "markdown",
   "metadata": {}
  },
  {
   "cell_type": "code",
   "execution_count": 22,
   "metadata": {},
   "outputs": [],
   "source": [
    "Xt_sub = interpolator.interpolate(X_sub)\n",
    "Xt_sub = expanser.expand(Xt_sub)"
   ]
  },
  {
   "source": [
    "## Prediction "
   ],
   "cell_type": "markdown",
   "metadata": {}
  },
  {
   "cell_type": "code",
   "execution_count": 23,
   "metadata": {},
   "outputs": [
    {
     "output_type": "execute_result",
     "data": {
      "text/plain": [
       "-0.40925457290783085"
      ]
     },
     "metadata": {},
     "execution_count": 23
    }
   ],
   "source": [
    "y_pred = predict_labels(weights, Xt_sub)\n",
    "np.sum(y_pred)/len(y_pred)"
   ]
  },
  {
   "source": [
    "## Save output for submission "
   ],
   "cell_type": "markdown",
   "metadata": {}
  },
  {
   "cell_type": "code",
   "execution_count": 87,
   "metadata": {},
   "outputs": [],
   "source": [
    "OUTPUT_PATH = 'data/submission.csv' # TODO: fill in desired name of output file for submission\n",
    "\n",
    "create_csv_submission(ids_test, y_pred, OUTPUT_PATH)"
   ]
  },
  {
   "cell_type": "code",
   "execution_count": null,
   "metadata": {},
   "outputs": [],
   "source": []
  }
 ],
 "metadata": {
  "kernelspec": {
   "display_name": "Python 3",
   "language": "python",
   "name": "python3"
  },
  "language_info": {
   "codemirror_mode": {
    "name": "ipython",
    "version": 3
   },
   "file_extension": ".py",
   "mimetype": "text/x-python",
   "name": "python",
   "nbconvert_exporter": "python",
   "pygments_lexer": "ipython3",
   "version": "3.7.7-final"
  }
 },
 "nbformat": 4,
 "nbformat_minor": 2
}